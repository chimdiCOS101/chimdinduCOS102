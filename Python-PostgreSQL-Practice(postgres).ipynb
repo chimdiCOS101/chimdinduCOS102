{
 "cells": [
  {
   "cell_type": "markdown",
   "metadata": {},
   "source": [
    "# Python - PostgreSQL"
   ]
  },
  {
   "cell_type": "markdown",
   "metadata": {},
   "source": [
    "<ul><li>PostgreSQL can be integrated with Python using psycopg2 module.</li><li>psycopg2 is a PostgreSQL database adapter for the Python programming language.</li><li>psycopg2 was written with the aim of being very small and fast, and stable as a rock.</li><li> You do not need to install this module separately because it is shipped, by default, along with Python version 2.5.x onwards.</li></ul>"
   ]
  },
  {
   "cell_type": "markdown",
   "metadata": {},
   "source": [
    "# Python psycopg2 Module APIs\n",
    "\n",
    "If you do not have it installed on your machine then you can use the command to install it as follows:"
   ]
  },
  {
   "cell_type": "code",
   "execution_count": 1,
   "metadata": {},
   "outputs": [
    {
     "name": "stdout",
     "output_type": "stream",
     "text": [
      "Requirement already satisfied: psycopg2 in c:\\users\\chimd\\appdata\\local\\programs\\python\\python312\\lib\\site-packages (2.9.9)Note: you may need to restart the kernel to use updated packages.\n",
      "\n"
     ]
    }
   ],
   "source": [
    "pip install psycopg2"
   ]
  },
  {
   "cell_type": "markdown",
   "metadata": {},
   "source": [
    "If the above command causes an error then use the command:"
   ]
  },
  {
   "cell_type": "code",
   "execution_count": 2,
   "metadata": {},
   "outputs": [
    {
     "name": "stdout",
     "output_type": "stream",
     "text": [
      "Requirement already satisfied: psycopg2-binary in c:\\users\\chimd\\appdata\\local\\programs\\python\\python312\\lib\\site-packages (2.9.9)\n",
      "Note: you may need to restart the kernel to use updated packages.\n"
     ]
    }
   ],
   "source": [
    "pip install psycopg2-binary"
   ]
  },
  {
   "cell_type": "markdown",
   "metadata": {},
   "source": [
    "The following are important psycopg2 module routines:"
   ]
  },
  {
   "cell_type": "markdown",
   "metadata": {},
   "source": [
    "<table border=1 style=\"font-size:15px;\">\n",
    "    <tr>\n",
    "        <td width=200><b>APIs</b></td><td width=800><b>Description</b></td>\n",
    "    </tr>\n",
    "    <tr>\n",
    "        <td>psycopg2.connect()</td><td>This API opens a connection to the PostgreSQL database.</td>\n",
    "    </tr>\n",
    "     <tr>\n",
    "        <td>connection.cursor()</td><td>This routine creates a cursor which will be used throughout of your database programming with Python.</td>\n",
    "    </tr>\n",
    "    <tr>\n",
    "        <td>cursor.execute()</td><td>This routine executes an SQL statement. The SQL statement may be parameterized (i.e., placeholders instead of SQL literals).</td>\n",
    "    </tr>\n",
    "     <tr>\n",
    "        <td>connection.close()</td><td>DescriptionThis method closes the database connection.</td>\n",
    "    </tr>\n",
    "    <tr>\n",
    "        <td>cursor.fetchone()</td><td>This method fetches the next row of a query result set, returning a single sequence, or None when no more data is available.</td>\n",
    "    </tr>\n",
    "     <tr>\n",
    "        <td>cursor.fetchall()</td><td>This routine fetches all (remaining) rows of a query result, returning a list. An empty list is returned when no rows are available.</td>\n",
    "    </tr>\n",
    "    <tr>\n",
    "        <td>psycopg2.connect()</td><td>This API opens a connection to the PostgreSQL database.</td>\n",
    "    </tr>\n",
    "</table>"
   ]
  },
  {
   "cell_type": "markdown",
   "metadata": {},
   "source": [
    "# Connecting to a Database"
   ]
  },
  {
   "cell_type": "code",
   "execution_count": 3,
   "metadata": {},
   "outputs": [
    {
     "name": "stdout",
     "output_type": "stream",
     "text": [
      "Error connecting to PostgreSQL DB: invalid integer value \"your_port\" for connection option \"port\"\n",
      "\n"
     ]
    }
   ],
   "source": [
    "import psycopg2\n",
    "\n",
    "# Database connection parameters\n",
    "host = \"your_host\"\n",
    "port = \"your_port\"\n",
    "dbname = \"your_database_name\"\n",
    "user = \"your_usernae\"\n",
    "password = \"your_password\"\n",
    "\n",
    "# Establish the connection\n",
    "try:\n",
    "    connection = psycopg2.connect(\n",
    "        host=host,\n",
    "        port=port,\n",
    "        dbname=dbname,\n",
    "        user=user,\n",
    "        password=password\n",
    "    )\n",
    "    print(\"Connection to PostgreSQL DB successful\")\n",
    "\n",
    "    # Create a cursor object\n",
    "    cursor = connection.cursor()\n",
    "\n",
    "    # Execute a SQL query\n",
    "    cursor.execute(\"SELECT version[];\")\n",
    "    \n",
    "    # Fetch and print the result of the query\n",
    "    db_version = cursor.fetchone()\n",
    "    print(f\"PostgreSQL database version: {db_version}\")\n",
    "\n",
    "    # Close the cursor and connection\n",
    "    cursor.close()\n",
    "    connection.close()\n",
    "\n",
    "except Exception as error:\n",
    "    print(f\"Error connecting to PostgreSQL DB: {error}\")\n"
   ]
  },
  {
   "cell_type": "markdown",
   "metadata": {},
   "source": [
    "# Selecting existing Database"
   ]
  },
  {
   "cell_type": "code",
   "execution_count": 4,
   "metadata": {},
   "outputs": [
    {
     "name": "stdout",
     "output_type": "stream",
     "text": [
      "Error connecting to PostgreSQL DB: invalid integer value \"your_port\" for connection option \"port\"\n",
      "\n"
     ]
    }
   ],
   "source": [
    "import psycopg2\n",
    "\n",
    "# Database connection parameters\n",
    "host = \"your_host\"\n",
    "port = \"your_port\"\n",
    "dbname = \"your_database_name\"\n",
    "user = \"your_usernae\"\n",
    "password = \"your_password\"\n",
    "\n",
    "# Establish the connection\n",
    "try:\n",
    "    connection = psycopg2.connect(\n",
    "        host=host,\n",
    "        port=port,\n",
    "        dbname=dbname,\n",
    "        user=user,\n",
    "        password=password\n",
    "    )\n",
    "    print(\"Connection to PostgreSQL DB successful\")\n",
    "\n",
    "    # Create a cursor object\n",
    "    cursor = connection.cursor()\n",
    "\n",
    "    # Define the SQL SELECT query\n",
    "    select_query = \"SELECT  FROM company;\"\n",
    "\n",
    "    # Execute the query\n",
    "    cursor.execute(select_query)\n",
    "\n",
    "    # Fetch all rows from the executed query\n",
    "    data = cursor.fetchall()\n",
    "\n",
    "    print(\"column\", \" | \", \"column2\")\n",
    "    print(\"------------------------\")\n",
    "        \n",
    "    # Iterate through the rows and print them\n",
    "    for row in data:\n",
    "        print(f\"{row[0]}       |  {row[1]}\")\n",
    "\n",
    "    # Close the cursor and connection\n",
    "    cursor.close()\n",
    "    connection.close()\n",
    "\n",
    "except Exception as error:\n",
    "    print(f\"Error connecting to PostgreSQL DB: {error}\")\n"
   ]
  },
  {
   "cell_type": "markdown",
   "metadata": {},
   "source": [
    "# Create a new Database"
   ]
  },
  {
   "cell_type": "code",
   "execution_count": 5,
   "metadata": {},
   "outputs": [
    {
     "name": "stdout",
     "output_type": "stream",
     "text": [
      "Error creating the database: invalid integer value \"your_port\" for connection option \"port\"\n",
      "\n"
     ]
    }
   ],
   "source": [
    "import psycopg2\n",
    "from psycopg2 import sql\n",
    "\n",
    "# Parameters to connect to the existing PostgreSQL server\n",
    "host = \"your_host\"\n",
    "port = \"your_port\"\n",
    "dbname = \"your_database_name\"\n",
    "user = \"your_usernae\"\n",
    "password = \"your_password\"  # Connect to the default database\n",
    "\n",
    "# Name of the new database to be created\n",
    "new_ddname = \"cos102_db\"\n",
    "\n",
    "try:\n",
    "    # Connect to the PostgreSQL server\n",
    "    connection = psycopg2.connect(\n",
    "        host=host,\n",
    "        port=port,\n",
    "        dbname=dbname,\n",
    "        user=user,\n",
    "        password=password\n",
    "    )\n",
    "    connection.autocommit = True  # Enable autocommit mode\n",
    "    print(\"Connection to PostgreSQL server successful\")\n",
    "\n",
    "    # Create a cursor object\n",
    "    cursor = connection.cursor()\n",
    "\n",
    "    # Define the SQL statement to create a new database\n",
    "    create_db_query = sql.SQL(f\"CREATE DATABASE {new_ddname}\")\n",
    "\n",
    "    # Execute the SQL statement\n",
    "    cursor.execute(create_db_query)\n",
    "    print(f\"Database '{new_ddname}' created successfully\")\n",
    "\n",
    "    # Close the cursor and connection\n",
    "    cursor.close()\n",
    "    connection.close()\n",
    "\n",
    "except Exception as error:\n",
    "    print(f\"Error creating the database: {error}\")\n"
   ]
  },
  {
   "cell_type": "markdown",
   "metadata": {},
   "source": [
    "# Create a Table"
   ]
  },
  {
   "cell_type": "code",
   "execution_count": 6,
   "metadata": {},
   "outputs": [
    {
     "name": "stdout",
     "output_type": "stream",
     "text": [
      "Error creating table: invalid integer value \"your_port\" for connection option \"port\"\n",
      "\n"
     ]
    }
   ],
   "source": [
    "import psycopg2\n",
    "\n",
    "# Database connection parameters\n",
    "host = \"your_host\"\n",
    "port = \"your_port\"\n",
    "dbname = \"your_database_name\"\n",
    "user = \"your_usernae\"\n",
    "password = \"your_password\"\n",
    "\n",
    "try:\n",
    "    # Connect to the PostgreSQL database\n",
    "    connection = psycopg2.connect(\n",
    "        host=host,\n",
    "        port=port,\n",
    "        dbname=dbname,\n",
    "        user=user,\n",
    "        password=password\n",
    "    )\n",
    "    #connection.autocommit = True  # Enable autocommit mode\n",
    "    \n",
    "    print(\"Connection to PostgreSQL DB successful\")\n",
    "\n",
    "    # Create a cursor object\n",
    "    cursors = connection.cursor()\n",
    "\n",
    "    # Define the SQL statement to create a new table\n",
    "    create_table_query = \"\"\"\n",
    "    CREATE TABLE sst_info (\n",
    "        id SERIAL PRIMARY KEY,\n",
    "        name VARCHAR(50) NOT NULL,\n",
    "        age INT NOT NULL,\n",
    "        department VARCHAR NOT NULL,\n",
    "        password VARCHAR NOT NULL,\n",
    "    );\n",
    "    \"\"\"\n",
    "\n",
    "    # Execute the SQL statement\n",
    "    cursor.execute(create_table_query)\n",
    "    print(\"Table created successfully\")\n",
    "\n",
    "    # Close the cursor and connection\n",
    "    cursor.close()\n",
    "    connection.close()\n",
    "\n",
    "except Exception as error:\n",
    "    print(f\"Error creating table: {error}\")\n"
   ]
  },
  {
   "cell_type": "markdown",
   "metadata": {},
   "source": [
    "# INSERT into Table"
   ]
  },
  {
   "cell_type": "code",
   "execution_count": 7,
   "metadata": {},
   "outputs": [
    {
     "name": "stdout",
     "output_type": "stream",
     "text": [
      "Error inserting data: invalid integer value \"your_port\" for connection option \"port\"\n",
      "\n"
     ]
    }
   ],
   "source": [
    "import psycopg2\n",
    "\n",
    "# Database connection parameters\n",
    "host = \"your_host\"\n",
    "port = \"your_port\"\n",
    "dbname = \"your_database_name\"\n",
    "user = \"your_usernae\"\n",
    "password = \"your_password\"\n",
    "\n",
    "try:\n",
    "    # Connect to the PostgreSQL database\n",
    "    connection = psycopg2.connect(\n",
    "        host=host,\n",
    "        port=port,\n",
    "        dbname=dbname,\n",
    "        user=user,\n",
    "        password=password\n",
    "    )\n",
    "    connection.autocommit = True  # Enable autocommit mode\n",
    "    print(\"Connection to PostgreSQL DB successful\")\n",
    "\n",
    "    # Create a cursor object\n",
    "    cursor = connection.cursor()\n",
    "\n",
    "    # Define the SQL INSERT statement\n",
    "    insert_query = \"\"\"\n",
    "    INSERT INTO sst_info (id, name, age, department, password)\n",
    "    VALUES (%s, %s, %s, %s);\n",
    "    \"\"\"\n",
    "    \n",
    "    # Data to be inserted\n",
    "    data_to_insert = (1, \"Jamel Ojo\", 20, \"Software Engineering\", \"anthelo4\")\n",
    "\n",
    "    # Execute the SQL statement\n",
    "    cursor.execute(insert_query, data_to_insert)\n",
    "    print(\"Data inserted successfully\")\n",
    "\n",
    "    # Close the cursor and connection\n",
    "    cursor.close()\n",
    "    connection.close()\n",
    "\n",
    "except Exception as error:\n",
    "    print(f\"Error inserting data: {error}\")\n"
   ]
  },
  {
   "cell_type": "markdown",
   "metadata": {},
   "source": [
    "# SELECT from Table"
   ]
  },
  {
   "cell_type": "markdown",
   "metadata": {},
   "source": [
    "# Class Project I"
   ]
  },
  {
   "cell_type": "markdown",
   "metadata": {},
   "source": [
    "Paystack is a Nigerian financial technology company that offers payment processing services to businesses. As a technology company, Paystack solves payment problems for ambitious businesses. Its mission is to help businesses in Africa become profitable, envied, and loved. They make it easy for businesses to accept secure payments from multiple local and global payment channels. They also provide tools to help you retain and acquire new customers. Currently, Paystack is restructuring the team network. It is a diverse, close-knit team on an adventure to build something enduring while learning something new, every day. \n",
    "\n"
   ]
  },
  {
   "cell_type": "markdown",
   "metadata": {},
   "source": [
    "<img src=\"paystack.jpg\">"
   ]
  },
  {
   "cell_type": "markdown",
   "metadata": {},
   "source": [
    "With your knowledge in python programming develop an application that creates the database named <b>Paystack_Team</b>. <br>The purpose of the application is to enable management to perform the following queries:\n",
    "<ul>\n",
    "    <li>Team Members in Revenue Division</li>\n",
    "    <li>Team Members in Growth and Product Division whose age is greater than 30 years but less than 35 years</li>\n",
    "    <li>Team Members in Modules 1,3 and 5</li>\n",
    "    <li>Team Members in Modules 4 and Product Division</li>\n",
    "</ul>"
   ]
  },
  {
   "cell_type": "code",
   "execution_count": 32,
   "metadata": {},
   "outputs": [
    {
     "name": "stdout",
     "output_type": "stream",
     "text": [
      "you are connected to paystack team\n",
      "23,23,23,23\n",
      "table filled succesfully\n"
     ]
    }
   ],
   "source": [
    "import psycopg2\n",
    "from psycopg2 import sql\n",
    "def creation():\n",
    "    host = \"localhost\"\n",
    "    port = \"5534\"\n",
    "    dbname = \"postgres\"\n",
    "    user = \"postgres\"\n",
    "    password = \"cos101\"\n",
    "\n",
    "    connection = psycopg2.connect(\n",
    "        host = host,\n",
    "        port = port,\n",
    "        dbname = dbname,\n",
    "        user = user,\n",
    "        password = password\n",
    "    )\n",
    "\n",
    "\n",
    "    connection.autocommit = True\n",
    "    print(\"autocommit enabled\")\n",
    "\n",
    "    cursor = connection.cursor()\n",
    "    \n",
    "    create_db_query = sql.SQL(\"CREATE DATABASE paystack_team\")\n",
    "    \n",
    "    cursor.execute(create_db_query)\n",
    "    print(\"paystack team created\")\n",
    "    \n",
    "    create_table_query = \"\"\"\n",
    "    CREATE TABLE paystack_table (\n",
    "    name VARCHAR(50) NOT NULL,\n",
    "    division VARCHAR(50) NOT NULL,\n",
    "    age INT NOT NULL,\n",
    "    module INT NOT NULL);\n",
    "    \"\"\"\n",
    "    cursor.execute(create_table_query)\n",
    "    print(\"table creation success\")\n",
    "\n",
    "    \n",
    "    \n",
    "\n",
    "\n",
    "host = \"localhost\"\n",
    "port = \"5534\"\n",
    "dbname = \"paystack_team\"\n",
    "user = \"postgres\"\n",
    "password = \"cos101\"\n",
    "\n",
    "connection = psycopg2.connect(\n",
    "    host = host,\n",
    "    port = port,\n",
    "    dbname = dbname,\n",
    "    user = user,\n",
    "    password = password\n",
    ")   \n",
    "\n",
    "connection.autocommit = True\n",
    "cursor = connection.cursor()\n",
    "print(\"you are connected to paystack team\")\n",
    "\n",
    "\n",
    "\n",
    "\n",
    "name = [ \"Oyinda Aina\",\"Wale Eseyin\",\"Khadijah Abu\",\"Onyekachi Mbaike\",\"Seike Ibojo\",\"Opemipo Aikomo\",\"Ezra Olubi\",\"Alexander Fasoro\",\"Stephen Amaza\",\"Loknan Nanyak\",\"Ibrahim Lawal\",\"Fisayo Kolawole\",\"Emmanuel Quartey\",\"Awatt Bassey\",\"Bolaji Akande\",\"Mohini Ufeli\",\"King Makanjuola\",\"Ijeoma Opara\",\"Dipo Omobomi\",\"Dapo Awobokun\",\"Charles Idem\",\"Ayobami Alo\",\"Aminat Badara\"]\n",
    "\n",
    "age = [32,28,30,37,33,28,30,35,40,44,39,27,31,32,30,29,31,26,32,35,38,34,30]\n",
    "\n",
    "division = [\"Business\",\"Engineering\",\"Product\",\"Design\",\"Growth\",\"Design\",\"Product\",\"Engineering\",\"Growth\",\"Engineering\",\"Engineering\",\"Commercial\",\"Growth\",\"Growth\",\"Revenue\",\"Growth\",\"Product\",\"Revenue\",\"Product\",\"Revenue\",\"Revenue\",\"Product\",\"Growth\",]\n",
    "\n",
    "module = [1,3,2,5,4,1,3,1,2,5,4,5,1,2,3,1,4,2,5,3,1,4,2]\n",
    "\n",
    "\n",
    "\n",
    "insert_query = \"\"\"\n",
    "INSERT INTO paystack_TEAM (name, division, age, module)\n",
    "VALUES (%s,%s,%s,%s);\n",
    "\"\"\"\n",
    "\n",
    "\n",
    "for i in range(0,23):\n",
    "    \n",
    "    data_to_insert = (name[i], division[i], age[i], module[i])\n",
    "    \n",
    "    \n",
    "    \n",
    "    cursor.execute(insert_query,data_to_insert )\n",
    "print(\"table filled succesfully\")\n",
    "\n",
    "cursor.execute(\"SELECT * FROM paystack_team WHERE revenue = division\")\n",
    "\n",
    "        \n",
    "        \n"
   ]
  },
  {
   "cell_type": "code",
   "execution_count": null,
   "metadata": {},
   "outputs": [],
   "source": []
  },
  {
   "cell_type": "code",
   "execution_count": null,
   "metadata": {},
   "outputs": [],
   "source": []
  },
  {
   "cell_type": "code",
   "execution_count": null,
   "metadata": {},
   "outputs": [],
   "source": [
    "\n",
    "\n",
    "cursor.close()\n",
    "connection.close()\n",
    "\n",
    "\n",
    "\n",
    "\n"
   ]
  }
 ],
 "metadata": {
  "kernelspec": {
   "display_name": "Python 3",
   "language": "python",
   "name": "python3"
  },
  "language_info": {
   "codemirror_mode": {
    "name": "ipython",
    "version": 3
   },
   "file_extension": ".py",
   "mimetype": "text/x-python",
   "name": "python",
   "nbconvert_exporter": "python",
   "pygments_lexer": "ipython3",
   "version": "3.12.3"
  }
 },
 "nbformat": 4,
 "nbformat_minor": 4
}
